{
 "cells": [
  {
   "cell_type": "code",
   "execution_count": 86,
   "metadata": {},
   "outputs": [],
   "source": [
    "#Import dependencies\n",
    "import requests\n",
    "import json\n",
    "import pandas as pd\n",
    "import numpy as np\n",
    "import matplotlib.pyplot as plt\n",
    "from pprint import pprint\n",
    "API_KEY = \"****************************\"\n",
    "\n"
   ]
  },
  {
   "cell_type": "code",
   "execution_count": null,
   "metadata": {},
   "outputs": [],
   "source": [
    "#Install full-fred module\n",
    "%pip install full-fred"
   ]
  },
  {
   "cell_type": "markdown",
   "metadata": {},
   "source": [
    "### Create function to reformat Fred data"
   ]
  },
  {
   "cell_type": "code",
   "execution_count": 151,
   "metadata": {},
   "outputs": [],
   "source": [
    "# Create function to Relabel & Organize Datasets from full_fred Module\n",
    "def reformat_fred_df(dataframe, value_col_rename=str):\n",
    "    \"\"\"Returns reformated Dataframe with Date and Renamed Value Column.\n",
    "    Converts Date to datetime64 & Value to float. \n",
    "    (Does not accept strings in Value Columns*! \n",
    "    Replace str values to Nan in 'value' columns.)\n",
    "\n",
    "    **Parameters**\n",
    "\n",
    "    :dataframe --> Takes raw dataframe from .get_series_df method \n",
    "    :value_col_rename --> Renames 'value' column to proper Value name \n",
    "    e.g. pd.rename(columns={'value': value_col_rename})\n",
    "    \"\"\"\n",
    "\n",
    "    #Rename columns\n",
    "    dataframe = dataframe.rename(\n",
    "        columns={\n",
    "            \"date\": \"Date\",\n",
    "            \"value\": value_col_rename,\n",
    "        }\n",
    "    )\n",
    "\n",
    "    #Grab Columns needed for Dataframe\n",
    "    dataframe = dataframe[[\"Date\", value_col_rename]]\n",
    "\n",
    "    #Change 'Date' column to datetime64 type\n",
    "    dataframe[\"Date\"] = pd.to_datetime(dataframe[\"Date\"])\n",
    "\n",
    "    #Change 'Value' column to float\n",
    "    try:\n",
    "        dataframe[value_col_rename] = dataframe[value_col_rename].astype(float)\n",
    "    except ValueError:\n",
    "        print(\"Value Error! Please convert string value to Nan in value column.\")\n",
    "\n",
    "    #Return dataframe\n",
    "    return dataframe"
   ]
  },
  {
   "cell_type": "markdown",
   "metadata": {},
   "source": [
    "# Searching for Series using Full Fred library\n",
    "##### Full Fred Documentation <https://github.com/7astro7/full_fred>\n"
   ]
  },
  {
   "cell_type": "code",
   "execution_count": 33,
   "metadata": {},
   "outputs": [
    {
     "data": {
      "text/plain": [
       "'api_key.txt'"
      ]
     },
     "execution_count": 33,
     "metadata": {},
     "output_type": "execute_result"
    }
   ],
   "source": [
    "from full_fred.fred import Fred\n",
    "fred = Fred('api_key.txt')\n",
    "\n",
    "# Check api key\n",
    "fred.get_api_key_file()"
   ]
  },
  {
   "cell_type": "code",
   "execution_count": 159,
   "metadata": {},
   "outputs": [],
   "source": [
    "# Search through Fred database for series \n",
    "# #Storing in variable to avoid running output\n",
    "home_sales_search = fred.search_for_series(search_words=[\"home sales\"])\n",
    "\n",
    "\n",
    "# 1)Open in text editor to go through data \n",
    "# 2)Command + f to search through text editor\n",
    "# 3)Grab the 'id' value for the dataset you want\n",
    "# 4)For example - if we want the id from the first dataset\n",
    "# id = 'MSPUS' "
   ]
  },
  {
   "cell_type": "markdown",
   "metadata": {},
   "source": [
    "## Median Home Sale Price Data (1963 - Present)"
   ]
  },
  {
   "cell_type": "code",
   "execution_count": 160,
   "metadata": {},
   "outputs": [
    {
     "data": {
      "text/html": [
       "<div>\n",
       "<style scoped>\n",
       "    .dataframe tbody tr th:only-of-type {\n",
       "        vertical-align: middle;\n",
       "    }\n",
       "\n",
       "    .dataframe tbody tr th {\n",
       "        vertical-align: top;\n",
       "    }\n",
       "\n",
       "    .dataframe thead th {\n",
       "        text-align: right;\n",
       "    }\n",
       "</style>\n",
       "<table border=\"1\" class=\"dataframe\">\n",
       "  <thead>\n",
       "    <tr style=\"text-align: right;\">\n",
       "      <th></th>\n",
       "      <th>realtime_start</th>\n",
       "      <th>realtime_end</th>\n",
       "      <th>date</th>\n",
       "      <th>value</th>\n",
       "    </tr>\n",
       "  </thead>\n",
       "  <tbody>\n",
       "    <tr>\n",
       "      <th>0</th>\n",
       "      <td>2023-11-10</td>\n",
       "      <td>2023-11-10</td>\n",
       "      <td>1963-01-01</td>\n",
       "      <td>17800</td>\n",
       "    </tr>\n",
       "    <tr>\n",
       "      <th>1</th>\n",
       "      <td>2023-11-10</td>\n",
       "      <td>2023-11-10</td>\n",
       "      <td>1963-04-01</td>\n",
       "      <td>18000</td>\n",
       "    </tr>\n",
       "    <tr>\n",
       "      <th>2</th>\n",
       "      <td>2023-11-10</td>\n",
       "      <td>2023-11-10</td>\n",
       "      <td>1963-07-01</td>\n",
       "      <td>17900</td>\n",
       "    </tr>\n",
       "    <tr>\n",
       "      <th>3</th>\n",
       "      <td>2023-11-10</td>\n",
       "      <td>2023-11-10</td>\n",
       "      <td>1963-10-01</td>\n",
       "      <td>18500</td>\n",
       "    </tr>\n",
       "    <tr>\n",
       "      <th>4</th>\n",
       "      <td>2023-11-10</td>\n",
       "      <td>2023-11-10</td>\n",
       "      <td>1964-01-01</td>\n",
       "      <td>18500</td>\n",
       "    </tr>\n",
       "    <tr>\n",
       "      <th>...</th>\n",
       "      <td>...</td>\n",
       "      <td>...</td>\n",
       "      <td>...</td>\n",
       "      <td>...</td>\n",
       "    </tr>\n",
       "    <tr>\n",
       "      <th>238</th>\n",
       "      <td>2023-11-10</td>\n",
       "      <td>2023-11-10</td>\n",
       "      <td>2022-07-01</td>\n",
       "      <td>468000.0</td>\n",
       "    </tr>\n",
       "    <tr>\n",
       "      <th>239</th>\n",
       "      <td>2023-11-10</td>\n",
       "      <td>2023-11-10</td>\n",
       "      <td>2022-10-01</td>\n",
       "      <td>479500.0</td>\n",
       "    </tr>\n",
       "    <tr>\n",
       "      <th>240</th>\n",
       "      <td>2023-11-10</td>\n",
       "      <td>2023-11-10</td>\n",
       "      <td>2023-01-01</td>\n",
       "      <td>429000.0</td>\n",
       "    </tr>\n",
       "    <tr>\n",
       "      <th>241</th>\n",
       "      <td>2023-11-10</td>\n",
       "      <td>2023-11-10</td>\n",
       "      <td>2023-04-01</td>\n",
       "      <td>418500.0</td>\n",
       "    </tr>\n",
       "    <tr>\n",
       "      <th>242</th>\n",
       "      <td>2023-11-10</td>\n",
       "      <td>2023-11-10</td>\n",
       "      <td>2023-07-01</td>\n",
       "      <td>431000.0</td>\n",
       "    </tr>\n",
       "  </tbody>\n",
       "</table>\n",
       "<p>243 rows × 4 columns</p>\n",
       "</div>"
      ],
      "text/plain": [
       "    realtime_start realtime_end        date     value\n",
       "0       2023-11-10   2023-11-10  1963-01-01     17800\n",
       "1       2023-11-10   2023-11-10  1963-04-01     18000\n",
       "2       2023-11-10   2023-11-10  1963-07-01     17900\n",
       "3       2023-11-10   2023-11-10  1963-10-01     18500\n",
       "4       2023-11-10   2023-11-10  1964-01-01     18500\n",
       "..             ...          ...         ...       ...\n",
       "238     2023-11-10   2023-11-10  2022-07-01  468000.0\n",
       "239     2023-11-10   2023-11-10  2022-10-01  479500.0\n",
       "240     2023-11-10   2023-11-10  2023-01-01  429000.0\n",
       "241     2023-11-10   2023-11-10  2023-04-01  418500.0\n",
       "242     2023-11-10   2023-11-10  2023-07-01  431000.0\n",
       "\n",
       "[243 rows x 4 columns]"
      ]
     },
     "execution_count": 160,
     "metadata": {},
     "output_type": "execute_result"
    }
   ],
   "source": [
    "# Use the .get_series_df method and enter the 'id' from the desired dataset\n",
    "median_home_price = fred.get_series_df('MSPUS')\n",
    "median_home_price"
   ]
  },
  {
   "cell_type": "code",
   "execution_count": 161,
   "metadata": {},
   "outputs": [
    {
     "data": {
      "text/html": [
       "<div>\n",
       "<style scoped>\n",
       "    .dataframe tbody tr th:only-of-type {\n",
       "        vertical-align: middle;\n",
       "    }\n",
       "\n",
       "    .dataframe tbody tr th {\n",
       "        vertical-align: top;\n",
       "    }\n",
       "\n",
       "    .dataframe thead th {\n",
       "        text-align: right;\n",
       "    }\n",
       "</style>\n",
       "<table border=\"1\" class=\"dataframe\">\n",
       "  <thead>\n",
       "    <tr style=\"text-align: right;\">\n",
       "      <th></th>\n",
       "      <th>Date</th>\n",
       "      <th>Median Home Sale Price</th>\n",
       "    </tr>\n",
       "  </thead>\n",
       "  <tbody>\n",
       "    <tr>\n",
       "      <th>0</th>\n",
       "      <td>1963-01-01</td>\n",
       "      <td>17800.0</td>\n",
       "    </tr>\n",
       "    <tr>\n",
       "      <th>1</th>\n",
       "      <td>1963-04-01</td>\n",
       "      <td>18000.0</td>\n",
       "    </tr>\n",
       "    <tr>\n",
       "      <th>2</th>\n",
       "      <td>1963-07-01</td>\n",
       "      <td>17900.0</td>\n",
       "    </tr>\n",
       "    <tr>\n",
       "      <th>3</th>\n",
       "      <td>1963-10-01</td>\n",
       "      <td>18500.0</td>\n",
       "    </tr>\n",
       "    <tr>\n",
       "      <th>4</th>\n",
       "      <td>1964-01-01</td>\n",
       "      <td>18500.0</td>\n",
       "    </tr>\n",
       "    <tr>\n",
       "      <th>...</th>\n",
       "      <td>...</td>\n",
       "      <td>...</td>\n",
       "    </tr>\n",
       "    <tr>\n",
       "      <th>238</th>\n",
       "      <td>2022-07-01</td>\n",
       "      <td>468000.0</td>\n",
       "    </tr>\n",
       "    <tr>\n",
       "      <th>239</th>\n",
       "      <td>2022-10-01</td>\n",
       "      <td>479500.0</td>\n",
       "    </tr>\n",
       "    <tr>\n",
       "      <th>240</th>\n",
       "      <td>2023-01-01</td>\n",
       "      <td>429000.0</td>\n",
       "    </tr>\n",
       "    <tr>\n",
       "      <th>241</th>\n",
       "      <td>2023-04-01</td>\n",
       "      <td>418500.0</td>\n",
       "    </tr>\n",
       "    <tr>\n",
       "      <th>242</th>\n",
       "      <td>2023-07-01</td>\n",
       "      <td>431000.0</td>\n",
       "    </tr>\n",
       "  </tbody>\n",
       "</table>\n",
       "<p>243 rows × 2 columns</p>\n",
       "</div>"
      ],
      "text/plain": [
       "          Date  Median Home Sale Price\n",
       "0   1963-01-01                 17800.0\n",
       "1   1963-04-01                 18000.0\n",
       "2   1963-07-01                 17900.0\n",
       "3   1963-10-01                 18500.0\n",
       "4   1964-01-01                 18500.0\n",
       "..         ...                     ...\n",
       "238 2022-07-01                468000.0\n",
       "239 2022-10-01                479500.0\n",
       "240 2023-01-01                429000.0\n",
       "241 2023-04-01                418500.0\n",
       "242 2023-07-01                431000.0\n",
       "\n",
       "[243 rows x 2 columns]"
      ]
     },
     "execution_count": 161,
     "metadata": {},
     "output_type": "execute_result"
    }
   ],
   "source": [
    "# Reformat Dataframe\n",
    "median_home_price_df = reformat_fred_df(median_home_price, \"Median Home Sale Price\")\n",
    "\n",
    "# Display Dataframe\n",
    "median_home_price_df"
   ]
  },
  {
   "cell_type": "markdown",
   "metadata": {},
   "source": [
    "## 30 Year Mortgage Rate Data (1971 - Present)"
   ]
  },
  {
   "cell_type": "code",
   "execution_count": 110,
   "metadata": {},
   "outputs": [],
   "source": [
    "interest_rate_search = fred.search_for_series(search_words=[\"interest rate\"])\n"
   ]
  },
  {
   "cell_type": "code",
   "execution_count": 152,
   "metadata": {},
   "outputs": [],
   "source": [
    "mortgage_30 = fred.get_series_df(\"MORTGAGE30US\")\n",
    "\n",
    "## Data sourced from '30-Year Fixed Rate Mortgage Average in the United States'"
   ]
  },
  {
   "cell_type": "code",
   "execution_count": 133,
   "metadata": {},
   "outputs": [
    {
     "data": {
      "text/html": [
       "<div>\n",
       "<style scoped>\n",
       "    .dataframe tbody tr th:only-of-type {\n",
       "        vertical-align: middle;\n",
       "    }\n",
       "\n",
       "    .dataframe tbody tr th {\n",
       "        vertical-align: top;\n",
       "    }\n",
       "\n",
       "    .dataframe thead th {\n",
       "        text-align: right;\n",
       "    }\n",
       "</style>\n",
       "<table border=\"1\" class=\"dataframe\">\n",
       "  <thead>\n",
       "    <tr style=\"text-align: right;\">\n",
       "      <th></th>\n",
       "      <th>Date</th>\n",
       "      <th>30 Year Fixed Mortgage Rate</th>\n",
       "    </tr>\n",
       "  </thead>\n",
       "  <tbody>\n",
       "    <tr>\n",
       "      <th>0</th>\n",
       "      <td>1971-04-02</td>\n",
       "      <td>7.33</td>\n",
       "    </tr>\n",
       "    <tr>\n",
       "      <th>1</th>\n",
       "      <td>1971-04-09</td>\n",
       "      <td>7.31</td>\n",
       "    </tr>\n",
       "    <tr>\n",
       "      <th>2</th>\n",
       "      <td>1971-04-16</td>\n",
       "      <td>7.31</td>\n",
       "    </tr>\n",
       "    <tr>\n",
       "      <th>3</th>\n",
       "      <td>1971-04-23</td>\n",
       "      <td>7.31</td>\n",
       "    </tr>\n",
       "    <tr>\n",
       "      <th>4</th>\n",
       "      <td>1971-04-30</td>\n",
       "      <td>7.29</td>\n",
       "    </tr>\n",
       "  </tbody>\n",
       "</table>\n",
       "</div>"
      ],
      "text/plain": [
       "        Date  30 Year Fixed Mortgage Rate\n",
       "0 1971-04-02                         7.33\n",
       "1 1971-04-09                         7.31\n",
       "2 1971-04-16                         7.31\n",
       "3 1971-04-23                         7.31\n",
       "4 1971-04-30                         7.29"
      ]
     },
     "execution_count": 133,
     "metadata": {},
     "output_type": "execute_result"
    }
   ],
   "source": [
    "# Reformat Dataframe\n",
    "mortgage_30_df = reformat_fred_df(mortgage_30, \"30 Year Fixed Mortgage Rate\")\n",
    "\n",
    "# Display Dataframe\n",
    "mortgage_30_df.head()"
   ]
  },
  {
   "cell_type": "code",
   "execution_count": null,
   "metadata": {},
   "outputs": [],
   "source": [
    "# Check datatypes\n",
    "mortgage_30_df.dtypes"
   ]
  },
  {
   "cell_type": "markdown",
   "metadata": {},
   "source": [
    "## 15 Year Mortgage Rate Data (1991 - Present)"
   ]
  },
  {
   "cell_type": "code",
   "execution_count": 153,
   "metadata": {},
   "outputs": [],
   "source": [
    "mortgage_15 = fred.get_series_df(\"MORTGAGE15US\")\n",
    "\n",
    "## Data sourced from '15-Year Fixed Rate Mortgage Average in the United States'"
   ]
  },
  {
   "cell_type": "code",
   "execution_count": 154,
   "metadata": {},
   "outputs": [
    {
     "data": {
      "text/html": [
       "<div>\n",
       "<style scoped>\n",
       "    .dataframe tbody tr th:only-of-type {\n",
       "        vertical-align: middle;\n",
       "    }\n",
       "\n",
       "    .dataframe tbody tr th {\n",
       "        vertical-align: top;\n",
       "    }\n",
       "\n",
       "    .dataframe thead th {\n",
       "        text-align: right;\n",
       "    }\n",
       "</style>\n",
       "<table border=\"1\" class=\"dataframe\">\n",
       "  <thead>\n",
       "    <tr style=\"text-align: right;\">\n",
       "      <th></th>\n",
       "      <th>Date</th>\n",
       "      <th>15 Year Fixed Mortgage Rate</th>\n",
       "    </tr>\n",
       "  </thead>\n",
       "  <tbody>\n",
       "    <tr>\n",
       "      <th>0</th>\n",
       "      <td>1991-08-30</td>\n",
       "      <td>8.77</td>\n",
       "    </tr>\n",
       "    <tr>\n",
       "      <th>1</th>\n",
       "      <td>1991-09-06</td>\n",
       "      <td>8.79</td>\n",
       "    </tr>\n",
       "    <tr>\n",
       "      <th>2</th>\n",
       "      <td>1991-09-13</td>\n",
       "      <td>8.68</td>\n",
       "    </tr>\n",
       "    <tr>\n",
       "      <th>3</th>\n",
       "      <td>1991-09-20</td>\n",
       "      <td>8.62</td>\n",
       "    </tr>\n",
       "    <tr>\n",
       "      <th>4</th>\n",
       "      <td>1991-09-27</td>\n",
       "      <td>8.59</td>\n",
       "    </tr>\n",
       "  </tbody>\n",
       "</table>\n",
       "</div>"
      ],
      "text/plain": [
       "        Date  15 Year Fixed Mortgage Rate\n",
       "0 1991-08-30                         8.77\n",
       "1 1991-09-06                         8.79\n",
       "2 1991-09-13                         8.68\n",
       "3 1991-09-20                         8.62\n",
       "4 1991-09-27                         8.59"
      ]
     },
     "execution_count": 154,
     "metadata": {},
     "output_type": "execute_result"
    }
   ],
   "source": [
    "# Reformat Dataframe\n",
    "mortgage_15_df = reformat_fred_df(mortgage_15, \"15 Year Fixed Mortgage Rate\")\n",
    "\n",
    "# Display Dataframe\n",
    "mortgage_15_df.head()"
   ]
  },
  {
   "cell_type": "code",
   "execution_count": null,
   "metadata": {},
   "outputs": [],
   "source": [
    "# Check datatypes\n",
    "mortgage_15_df.dtypes"
   ]
  },
  {
   "cell_type": "markdown",
   "metadata": {},
   "source": [
    "## Home Price Index Data (1987 - Present)"
   ]
  },
  {
   "cell_type": "code",
   "execution_count": 117,
   "metadata": {},
   "outputs": [],
   "source": [
    "home_price_search = fred.search_for_series(search_words=[\"home price\"])"
   ]
  },
  {
   "cell_type": "code",
   "execution_count": 128,
   "metadata": {},
   "outputs": [
    {
     "data": {
      "text/html": [
       "<div>\n",
       "<style scoped>\n",
       "    .dataframe tbody tr th:only-of-type {\n",
       "        vertical-align: middle;\n",
       "    }\n",
       "\n",
       "    .dataframe tbody tr th {\n",
       "        vertical-align: top;\n",
       "    }\n",
       "\n",
       "    .dataframe thead th {\n",
       "        text-align: right;\n",
       "    }\n",
       "</style>\n",
       "<table border=\"1\" class=\"dataframe\">\n",
       "  <thead>\n",
       "    <tr style=\"text-align: right;\">\n",
       "      <th></th>\n",
       "      <th>realtime_start</th>\n",
       "      <th>realtime_end</th>\n",
       "      <th>date</th>\n",
       "      <th>value</th>\n",
       "    </tr>\n",
       "  </thead>\n",
       "  <tbody>\n",
       "    <tr>\n",
       "      <th>0</th>\n",
       "      <td>2023-11-10</td>\n",
       "      <td>2023-11-10</td>\n",
       "      <td>1975-01-01</td>\n",
       "      <td>.</td>\n",
       "    </tr>\n",
       "    <tr>\n",
       "      <th>1</th>\n",
       "      <td>2023-11-10</td>\n",
       "      <td>2023-11-10</td>\n",
       "      <td>1975-02-01</td>\n",
       "      <td>.</td>\n",
       "    </tr>\n",
       "    <tr>\n",
       "      <th>2</th>\n",
       "      <td>2023-11-10</td>\n",
       "      <td>2023-11-10</td>\n",
       "      <td>1975-03-01</td>\n",
       "      <td>.</td>\n",
       "    </tr>\n",
       "    <tr>\n",
       "      <th>3</th>\n",
       "      <td>2023-11-10</td>\n",
       "      <td>2023-11-10</td>\n",
       "      <td>1975-04-01</td>\n",
       "      <td>.</td>\n",
       "    </tr>\n",
       "    <tr>\n",
       "      <th>4</th>\n",
       "      <td>2023-11-10</td>\n",
       "      <td>2023-11-10</td>\n",
       "      <td>1975-05-01</td>\n",
       "      <td>.</td>\n",
       "    </tr>\n",
       "    <tr>\n",
       "      <th>...</th>\n",
       "      <td>...</td>\n",
       "      <td>...</td>\n",
       "      <td>...</td>\n",
       "      <td>...</td>\n",
       "    </tr>\n",
       "    <tr>\n",
       "      <th>579</th>\n",
       "      <td>2023-11-10</td>\n",
       "      <td>2023-11-10</td>\n",
       "      <td>2023-04-01</td>\n",
       "      <td>301.469</td>\n",
       "    </tr>\n",
       "    <tr>\n",
       "      <th>580</th>\n",
       "      <td>2023-11-10</td>\n",
       "      <td>2023-11-10</td>\n",
       "      <td>2023-05-01</td>\n",
       "      <td>305.427</td>\n",
       "    </tr>\n",
       "    <tr>\n",
       "      <th>581</th>\n",
       "      <td>2023-11-10</td>\n",
       "      <td>2023-11-10</td>\n",
       "      <td>2023-06-01</td>\n",
       "      <td>308.307</td>\n",
       "    </tr>\n",
       "    <tr>\n",
       "      <th>582</th>\n",
       "      <td>2023-11-10</td>\n",
       "      <td>2023-11-10</td>\n",
       "      <td>2023-07-01</td>\n",
       "      <td>310.16200000000003</td>\n",
       "    </tr>\n",
       "    <tr>\n",
       "      <th>583</th>\n",
       "      <td>2023-11-10</td>\n",
       "      <td>2023-11-10</td>\n",
       "      <td>2023-08-01</td>\n",
       "      <td>311.499</td>\n",
       "    </tr>\n",
       "  </tbody>\n",
       "</table>\n",
       "<p>584 rows × 4 columns</p>\n",
       "</div>"
      ],
      "text/plain": [
       "    realtime_start realtime_end        date               value\n",
       "0       2023-11-10   2023-11-10  1975-01-01                   .\n",
       "1       2023-11-10   2023-11-10  1975-02-01                   .\n",
       "2       2023-11-10   2023-11-10  1975-03-01                   .\n",
       "3       2023-11-10   2023-11-10  1975-04-01                   .\n",
       "4       2023-11-10   2023-11-10  1975-05-01                   .\n",
       "..             ...          ...         ...                 ...\n",
       "579     2023-11-10   2023-11-10  2023-04-01             301.469\n",
       "580     2023-11-10   2023-11-10  2023-05-01             305.427\n",
       "581     2023-11-10   2023-11-10  2023-06-01             308.307\n",
       "582     2023-11-10   2023-11-10  2023-07-01  310.16200000000003\n",
       "583     2023-11-10   2023-11-10  2023-08-01             311.499\n",
       "\n",
       "[584 rows x 4 columns]"
      ]
     },
     "execution_count": 128,
     "metadata": {},
     "output_type": "execute_result"
    }
   ],
   "source": [
    "home_price_index = fred.get_series_df(\"CSUSHPINSA\")\n",
    "home_price_index\n",
    "\n",
    "## Data sourced from S&P/Case-Shiller U.S. National Home Price Index"
   ]
  },
  {
   "cell_type": "code",
   "execution_count": 129,
   "metadata": {},
   "outputs": [],
   "source": [
    "# Change string values in value column to Nan values\n",
    "home_price_index[\"value\"] = home_price_index['value'].replace(\".\", np.nan)"
   ]
  },
  {
   "cell_type": "code",
   "execution_count": 131,
   "metadata": {},
   "outputs": [
    {
     "data": {
      "text/html": [
       "<div>\n",
       "<style scoped>\n",
       "    .dataframe tbody tr th:only-of-type {\n",
       "        vertical-align: middle;\n",
       "    }\n",
       "\n",
       "    .dataframe tbody tr th {\n",
       "        vertical-align: top;\n",
       "    }\n",
       "\n",
       "    .dataframe thead th {\n",
       "        text-align: right;\n",
       "    }\n",
       "</style>\n",
       "<table border=\"1\" class=\"dataframe\">\n",
       "  <thead>\n",
       "    <tr style=\"text-align: right;\">\n",
       "      <th></th>\n",
       "      <th>Date</th>\n",
       "      <th>Home Price Index</th>\n",
       "    </tr>\n",
       "  </thead>\n",
       "  <tbody>\n",
       "    <tr>\n",
       "      <th>0</th>\n",
       "      <td>1975-01-01</td>\n",
       "      <td>NaN</td>\n",
       "    </tr>\n",
       "    <tr>\n",
       "      <th>1</th>\n",
       "      <td>1975-02-01</td>\n",
       "      <td>NaN</td>\n",
       "    </tr>\n",
       "    <tr>\n",
       "      <th>2</th>\n",
       "      <td>1975-03-01</td>\n",
       "      <td>NaN</td>\n",
       "    </tr>\n",
       "    <tr>\n",
       "      <th>3</th>\n",
       "      <td>1975-04-01</td>\n",
       "      <td>NaN</td>\n",
       "    </tr>\n",
       "    <tr>\n",
       "      <th>4</th>\n",
       "      <td>1975-05-01</td>\n",
       "      <td>NaN</td>\n",
       "    </tr>\n",
       "    <tr>\n",
       "      <th>...</th>\n",
       "      <td>...</td>\n",
       "      <td>...</td>\n",
       "    </tr>\n",
       "    <tr>\n",
       "      <th>579</th>\n",
       "      <td>2023-04-01</td>\n",
       "      <td>301.469</td>\n",
       "    </tr>\n",
       "    <tr>\n",
       "      <th>580</th>\n",
       "      <td>2023-05-01</td>\n",
       "      <td>305.427</td>\n",
       "    </tr>\n",
       "    <tr>\n",
       "      <th>581</th>\n",
       "      <td>2023-06-01</td>\n",
       "      <td>308.307</td>\n",
       "    </tr>\n",
       "    <tr>\n",
       "      <th>582</th>\n",
       "      <td>2023-07-01</td>\n",
       "      <td>310.162</td>\n",
       "    </tr>\n",
       "    <tr>\n",
       "      <th>583</th>\n",
       "      <td>2023-08-01</td>\n",
       "      <td>311.499</td>\n",
       "    </tr>\n",
       "  </tbody>\n",
       "</table>\n",
       "<p>584 rows × 2 columns</p>\n",
       "</div>"
      ],
      "text/plain": [
       "          Date  Home Price Index\n",
       "0   1975-01-01               NaN\n",
       "1   1975-02-01               NaN\n",
       "2   1975-03-01               NaN\n",
       "3   1975-04-01               NaN\n",
       "4   1975-05-01               NaN\n",
       "..         ...               ...\n",
       "579 2023-04-01           301.469\n",
       "580 2023-05-01           305.427\n",
       "581 2023-06-01           308.307\n",
       "582 2023-07-01           310.162\n",
       "583 2023-08-01           311.499\n",
       "\n",
       "[584 rows x 2 columns]"
      ]
     },
     "execution_count": 131,
     "metadata": {},
     "output_type": "execute_result"
    }
   ],
   "source": [
    "# Reformat Dataframe\n",
    "home_price_index_df = reformat_fred_df(home_price_index, \"Home Price Index\")\n",
    "\n",
    "# Display Dataframe\n",
    "home_price_index_df"
   ]
  },
  {
   "cell_type": "code",
   "execution_count": null,
   "metadata": {},
   "outputs": [],
   "source": [
    "# Check datatype\n",
    "home_price_index_df.dtypes"
   ]
  },
  {
   "cell_type": "markdown",
   "metadata": {},
   "source": [
    "## Household Debt to GDP Data (2005 - Present)"
   ]
  },
  {
   "cell_type": "code",
   "execution_count": 15,
   "metadata": {},
   "outputs": [],
   "source": [
    "gdp_search = fred.search_for_series(search_words=[\"GDP\"])"
   ]
  },
  {
   "cell_type": "code",
   "execution_count": 155,
   "metadata": {},
   "outputs": [],
   "source": [
    "household_debt_to_gdp = fred.get_series_df(\"HDTGPDUSQ163N\")\n",
    "\n",
    "## Data sourced from  \"Household Debt to GDP for United States\", International Monetary Fund"
   ]
  },
  {
   "cell_type": "code",
   "execution_count": 156,
   "metadata": {},
   "outputs": [
    {
     "data": {
      "text/html": [
       "<div>\n",
       "<style scoped>\n",
       "    .dataframe tbody tr th:only-of-type {\n",
       "        vertical-align: middle;\n",
       "    }\n",
       "\n",
       "    .dataframe tbody tr th {\n",
       "        vertical-align: top;\n",
       "    }\n",
       "\n",
       "    .dataframe thead th {\n",
       "        text-align: right;\n",
       "    }\n",
       "</style>\n",
       "<table border=\"1\" class=\"dataframe\">\n",
       "  <thead>\n",
       "    <tr style=\"text-align: right;\">\n",
       "      <th></th>\n",
       "      <th>Date</th>\n",
       "      <th>Household Debt to GDP</th>\n",
       "    </tr>\n",
       "  </thead>\n",
       "  <tbody>\n",
       "    <tr>\n",
       "      <th>0</th>\n",
       "      <td>2005-01-01</td>\n",
       "      <td>86.795348</td>\n",
       "    </tr>\n",
       "    <tr>\n",
       "      <th>1</th>\n",
       "      <td>2005-04-01</td>\n",
       "      <td>89.366533</td>\n",
       "    </tr>\n",
       "    <tr>\n",
       "      <th>2</th>\n",
       "      <td>2005-07-01</td>\n",
       "      <td>92.138275</td>\n",
       "    </tr>\n",
       "    <tr>\n",
       "      <th>3</th>\n",
       "      <td>2005-10-01</td>\n",
       "      <td>94.436722</td>\n",
       "    </tr>\n",
       "    <tr>\n",
       "      <th>4</th>\n",
       "      <td>2006-01-01</td>\n",
       "      <td>91.736689</td>\n",
       "    </tr>\n",
       "  </tbody>\n",
       "</table>\n",
       "</div>"
      ],
      "text/plain": [
       "        Date  Household Debt to GDP\n",
       "0 2005-01-01              86.795348\n",
       "1 2005-04-01              89.366533\n",
       "2 2005-07-01              92.138275\n",
       "3 2005-10-01              94.436722\n",
       "4 2006-01-01              91.736689"
      ]
     },
     "execution_count": 156,
     "metadata": {},
     "output_type": "execute_result"
    }
   ],
   "source": [
    "# Reformat Dataframe\n",
    "household_debt_to_gdp_df = reformat_fred_df(household_debt_to_gdp, \"Household Debt to GDP\")\n",
    "\n",
    "# Display Dataframe\n",
    "household_debt_to_gdp_df.head()"
   ]
  },
  {
   "cell_type": "markdown",
   "metadata": {},
   "source": [
    "# Test Merging Dataframes and Visualization"
   ]
  },
  {
   "cell_type": "code",
   "execution_count": 141,
   "metadata": {},
   "outputs": [],
   "source": [
    "# Merging Median Home Prices and Household Debt to GDP\n",
    "# Only merging as a test since these two have overlapping 'Date' values\n",
    "\n",
    "med_home_price_and_gdp = pd.merge(median_home_price_df, household_debt_to_gdp_df, how=\"inner\", on=\"Date\")"
   ]
  },
  {
   "cell_type": "code",
   "execution_count": 162,
   "metadata": {},
   "outputs": [
    {
     "data": {
      "text/html": [
       "<div>\n",
       "<style scoped>\n",
       "    .dataframe tbody tr th:only-of-type {\n",
       "        vertical-align: middle;\n",
       "    }\n",
       "\n",
       "    .dataframe tbody tr th {\n",
       "        vertical-align: top;\n",
       "    }\n",
       "\n",
       "    .dataframe thead th {\n",
       "        text-align: right;\n",
       "    }\n",
       "</style>\n",
       "<table border=\"1\" class=\"dataframe\">\n",
       "  <thead>\n",
       "    <tr style=\"text-align: right;\">\n",
       "      <th></th>\n",
       "      <th>Date</th>\n",
       "      <th>Median Home Sale Price</th>\n",
       "      <th>Household Debt to GDP</th>\n",
       "    </tr>\n",
       "  </thead>\n",
       "  <tbody>\n",
       "    <tr>\n",
       "      <th>0</th>\n",
       "      <td>2005-01-01</td>\n",
       "      <td>232500.0</td>\n",
       "      <td>86.795348</td>\n",
       "    </tr>\n",
       "    <tr>\n",
       "      <th>1</th>\n",
       "      <td>2005-04-01</td>\n",
       "      <td>233700.0</td>\n",
       "      <td>89.366533</td>\n",
       "    </tr>\n",
       "    <tr>\n",
       "      <th>2</th>\n",
       "      <td>2005-07-01</td>\n",
       "      <td>236400.0</td>\n",
       "      <td>92.138275</td>\n",
       "    </tr>\n",
       "    <tr>\n",
       "      <th>3</th>\n",
       "      <td>2005-10-01</td>\n",
       "      <td>243600.0</td>\n",
       "      <td>94.436722</td>\n",
       "    </tr>\n",
       "    <tr>\n",
       "      <th>4</th>\n",
       "      <td>2006-01-01</td>\n",
       "      <td>247700.0</td>\n",
       "      <td>91.736689</td>\n",
       "    </tr>\n",
       "    <tr>\n",
       "      <th>...</th>\n",
       "      <td>...</td>\n",
       "      <td>...</td>\n",
       "      <td>...</td>\n",
       "    </tr>\n",
       "    <tr>\n",
       "      <th>69</th>\n",
       "      <td>2022-04-01</td>\n",
       "      <td>449300.0</td>\n",
       "      <td>76.140050</td>\n",
       "    </tr>\n",
       "    <tr>\n",
       "      <th>70</th>\n",
       "      <td>2022-07-01</td>\n",
       "      <td>468000.0</td>\n",
       "      <td>77.407977</td>\n",
       "    </tr>\n",
       "    <tr>\n",
       "      <th>71</th>\n",
       "      <td>2022-10-01</td>\n",
       "      <td>479500.0</td>\n",
       "      <td>78.279285</td>\n",
       "    </tr>\n",
       "    <tr>\n",
       "      <th>72</th>\n",
       "      <td>2023-01-01</td>\n",
       "      <td>429000.0</td>\n",
       "      <td>74.355033</td>\n",
       "    </tr>\n",
       "    <tr>\n",
       "      <th>73</th>\n",
       "      <td>2023-04-01</td>\n",
       "      <td>418500.0</td>\n",
       "      <td>74.987581</td>\n",
       "    </tr>\n",
       "  </tbody>\n",
       "</table>\n",
       "<p>74 rows × 3 columns</p>\n",
       "</div>"
      ],
      "text/plain": [
       "         Date  Median Home Sale Price  Household Debt to GDP\n",
       "0  2005-01-01                232500.0              86.795348\n",
       "1  2005-04-01                233700.0              89.366533\n",
       "2  2005-07-01                236400.0              92.138275\n",
       "3  2005-10-01                243600.0              94.436722\n",
       "4  2006-01-01                247700.0              91.736689\n",
       "..        ...                     ...                    ...\n",
       "69 2022-04-01                449300.0              76.140050\n",
       "70 2022-07-01                468000.0              77.407977\n",
       "71 2022-10-01                479500.0              78.279285\n",
       "72 2023-01-01                429000.0              74.355033\n",
       "73 2023-04-01                418500.0              74.987581\n",
       "\n",
       "[74 rows x 3 columns]"
      ]
     },
     "execution_count": 162,
     "metadata": {},
     "output_type": "execute_result"
    }
   ],
   "source": [
    "#Display dataframe\n",
    "med_home_price_and_gdp"
   ]
  },
  {
   "cell_type": "code",
   "execution_count": 163,
   "metadata": {},
   "outputs": [
    {
     "data": {
      "image/png": "[encoded data removed]",
      "text/plain": [
       "<Figure size 640x480 with 1 Axes>"
      ]
     },
     "metadata": {},
     "output_type": "display_data"
    }
   ],
   "source": [
    "# Create Scatter Plot\n",
    "med_home_price_and_gdp.plot(kind=\"scatter\", x=\"Median Home Sale Price\", y= \"Household Debt to GDP\")\n",
    "\n",
    "# Show Plot\n",
    "plt.show()"
   ]
  },
  {
   "cell_type": "code",
   "execution_count": 168,
   "metadata": {},
   "outputs": [
    {
     "data": {
      "image/png": "[encoded data removed]",
      "text/plain": [
       "<Figure size 640x480 with 1 Axes>"
      ]
     },
     "metadata": {},
     "output_type": "display_data"
    }
   ],
   "source": [
    "# Create line graph (Household debt line will be close to 0 due to difference in values)\n",
    "med_home_price_and_gdp.plot(kind=\"line\", y=[\"Household Debt to GDP\", \"Median Home Sale Price\"], x=\"Date\")\n",
    "\n",
    "# Show plot\n",
    "plt.show()"
   ]
  }
 ],
 "metadata": {
  "kernelspec": {
   "display_name": "Python 3.11.4 ('base')",
   "language": "python",
   "name": "python3"
  },
  "language_info": {
   "codemirror_mode": {
    "name": "ipython",
    "version": 3
   },
   "file_extension": ".py",
   "mimetype": "text/x-python",
   "name": "python",
   "nbconvert_exporter": "python",
   "pygments_lexer": "ipython3",
   "version": "3.11.4"
  },
  "orig_nbformat": 4,
  "vscode": {
   "interpreter": {
    "hash": "4be3cc95ef389303b1bacc9b081ec69714ef68041dd56ca97795f6f5f5d2991b"
   }
  }
 },
 "nbformat": 4,
 "nbformat_minor": 2
}
